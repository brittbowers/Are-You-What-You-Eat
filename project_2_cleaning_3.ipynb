{
 "cells": [
  {
   "cell_type": "markdown",
   "metadata": {
    "Collapsed": "false"
   },
   "source": [
    "# Cleaning Notebook 3\n",
    "\n",
    "This notebook is for continuing to gather more data by scraping the website allrecipes.com and pulling ingredients from the common foods dataset. \n",
    "\n",
    "Raw Datasets:\n",
    "1) allrecipes.com\n",
    "2) Common Foods <br/>\n",
    "\n",
    "Final Dataframe: <br/>\n",
    "Count of common foods in recipes on the website allrecipes.com aggregated by country. Pickled.\n"
   ]
  },
  {
   "cell_type": "markdown",
   "metadata": {
    "Collapsed": "false"
   },
   "source": [
    "## Imports"
   ]
  },
  {
   "cell_type": "code",
   "execution_count": 1,
   "metadata": {
    "Collapsed": "false"
   },
   "outputs": [],
   "source": [
    "import pandas as pd\n",
    "import numpy as np\n",
    "import requests\n",
    "from bs4 import BeautifulSoup\n",
    "import time\n",
    "import re\n",
    "import matplotlib.pyplot as plt\n",
    "import pickle\n",
    "import itertools"
   ]
  },
  {
   "cell_type": "code",
   "execution_count": 2,
   "metadata": {
    "Collapsed": "false"
   },
   "outputs": [],
   "source": [
    "with open('data/df_common_food.pickle', 'rb') as read_file:\n",
    "    df_common_food = pickle.load(read_file)"
   ]
  },
  {
   "cell_type": "markdown",
   "metadata": {
    "Collapsed": "false"
   },
   "source": [
    "## Web scraping All Recipes (n=so many)\n",
    "#### Caveat: Foods grouped by region primarily rather than country specific. "
   ]
  },
  {
   "cell_type": "markdown",
   "metadata": {
    "Collapsed": "false"
   },
   "source": [
    "**Get the name of the countries and links to the recipes**"
   ]
  },
  {
   "cell_type": "code",
   "execution_count": 154,
   "metadata": {
    "Collapsed": "false"
   },
   "outputs": [],
   "source": [
    "def getRegionNameLink(url):\n",
    "    '''\n",
    "    This function takes in the all_recipes world cuisine url and outputs a list of regions and a list of links\n",
    "    to region pages\n",
    "    -----\n",
    "    input: string\n",
    "    output: list, list\n",
    "    '''\n",
    "    response = requests.get(url)\n",
    "    soup_food = BeautifulSoup(response.text, 'lxml')\n",
    "    all_regions = [x.text for x in soup_food.find_all(class_ = 'category-title')]\n",
    "    all_links = [x['href'] for x in soup_food.find_all(class_ = 'grid-col--subnav')]\n",
    "    return all_links"
   ]
  },
  {
   "cell_type": "code",
   "execution_count": 155,
   "metadata": {
    "Collapsed": "false"
   },
   "outputs": [],
   "source": [
    "url = 'https://www.allrecipes.com/recipes/86/world-cuisine/?internalSource=hub%20nav&referringId=231&referringContentType=Recipe%20Hub&referringPosition=1&linkName=hub%20nav%20exposed&clickId=hub%20nav%203'"
   ]
  },
  {
   "cell_type": "code",
   "execution_count": 156,
   "metadata": {
    "Collapsed": "false"
   },
   "outputs": [],
   "source": [
    "all_links = getRegionNameLink(url)"
   ]
  },
  {
   "cell_type": "code",
   "execution_count": 175,
   "metadata": {
    "Collapsed": "false"
   },
   "outputs": [],
   "source": [
    "region_links = ['https://www.allrecipes.com/recipes/728/world-cuisine/latin-american/'\n",
    "                ,'https://www.allrecipes.com/recipes/723/world-cuisine/european/', \n",
    "               'https://www.allrecipes.com/recipes/227/world-cuisine/asian/', \n",
    "               'https://www.allrecipes.com/recipes/235/world-cuisine/middle-eastern/', \n",
    "                'https://www.allrecipes.com/recipes/226/world-cuisine/african/',\n",
    "               'https://www.allrecipes.com/recipes/228/world-cuisine/australian-and-new-zealander/', \n",
    "               'https://www.allrecipes.com/recipes/733/world-cuisine/canadian/',\n",
    "              'https://www.allrecipes.com/recipes/17425/us-recipes/us-recipes-by-state/']"
   ]
  },
  {
   "cell_type": "markdown",
   "metadata": {
    "Collapsed": "false"
   },
   "source": [
    "**Scrape each recipe link**"
   ]
  },
  {
   "cell_type": "code",
   "execution_count": 176,
   "metadata": {
    "Collapsed": "false"
   },
   "outputs": [],
   "source": [
    "def getSubLinks(region_links):\n",
    "    '''\n",
    "    This function takes in a list of region page links and returns a list of country page links.\n",
    "    -----\n",
    "    input: list\n",
    "    output: list\n",
    "    '''\n",
    "    all_subs = []\n",
    "    for region in region_links:\n",
    "        response = requests.get(region)\n",
    "        soup_food = BeautifulSoup(response.text, 'lxml')\n",
    "        sub_links = [x['href'] for x in soup_food.find_all(class_ = 'grid-col--subnav')]\n",
    "        all_subs.append(sub_links)\n",
    "    all_subs = list(itertools.chain(*all_subs))\n",
    "    return all_subs"
   ]
  },
  {
   "cell_type": "code",
   "execution_count": 177,
   "metadata": {
    "Collapsed": "false"
   },
   "outputs": [],
   "source": [
    "all_subs = getSubLinks(region_links)"
   ]
  },
  {
   "cell_type": "code",
   "execution_count": 198,
   "metadata": {
    "Collapsed": "false"
   },
   "outputs": [],
   "source": [
    "country_links = ['https://www.allrecipes.com/recipes/1470/world-cuisine/latin-american/mexican/authentic/',\n",
    " 'https://www.allrecipes.com/recipes/1214/world-cuisine/latin-american/mexican/appetizers/',\n",
    " 'https://www.allrecipes.com/recipes/17504/world-cuisine/latin-american/mexican/main-dishes/',\n",
    " 'https://www.allrecipes.com/recipes/15936/world-cuisine/latin-american/mexican/drinks/',\n",
    " 'https://www.allrecipes.com/recipes/1217/world-cuisine/latin-american/mexican/desserts/',\n",
    " 'https://www.allrecipes.com/recipes/1526/world-cuisine/latin-american/mexican/side-dishes/',\n",
    " 'https://www.allrecipes.com/recipes/17513/world-cuisine/latin-american/mexican/salads/', \n",
    "    'https://www.allrecipes.com/recipes/1525/world-cuisine/latin-american/mexican/bread/',\n",
    " 'https://www.allrecipes.com/recipes/1216/world-cuisine/latin-american/mexican/main-dishes/burritos/',\n",
    " 'https://www.allrecipes.com/recipes/16085/world-cuisine/latin-american/mexican/main-dishes/chile-rellenos/',\n",
    " 'https://www.allrecipes.com/recipes/1218/world-cuisine/latin-american/mexican/main-dishes/enchiladas/',\n",
    " 'https://www.allrecipes.com/recipes/1220/world-cuisine/latin-american/mexican/main-dishes/fajitas/',\n",
    " 'https://www.allrecipes.com/recipes/1219/world-cuisine/latin-american/mexican/main-dishes/tacos/',\n",
    " 'https://www.allrecipes.com/recipes/16562/world-cuisine/latin-american/mexican/main-dishes/tacos/fish/',\n",
    " 'https://www.allrecipes.com/recipes/16082/world-cuisine/latin-american/mexican/side-dishes/rice/',\n",
    " 'https://www.allrecipes.com/recipes/1215/world-cuisine/latin-american/mexican/soups-and-stews/',\n",
    " 'https://www.allrecipes.com/recipes/1905/world-cuisine/latin-american/mexican/main-dishes/quesadillas/',\n",
    "                'https://www.allrecipes.com/recipes/1793/world-cuisine/european/italian/appetizers/',\n",
    " 'https://www.allrecipes.com/recipes/1798/world-cuisine/european/italian/bread/',\n",
    " 'https://www.allrecipes.com/recipes/1791/world-cuisine/european/italian/desserts/',\n",
    " 'https://www.allrecipes.com/recipes/17551/world-cuisine/european/italian/drinks/',\n",
    " 'https://www.allrecipes.com/recipes/16767/world-cuisine/european/italian/main-dishes/',\n",
    " 'https://www.allrecipes.com/recipes/1800/world-cuisine/european/italian/salads/',\n",
    " 'https://www.allrecipes.com/recipes/1792/world-cuisine/european/italian/side-dishes/',\n",
    " 'https://www.allrecipes.com/recipes/1790/world-cuisine/european/italian/soups-and-stews/',\n",
    " 'https://www.allrecipes.com/recipes/1789/world-cuisine/european/italian/authentic/',\n",
    "                'https://www.allrecipes.com/recipes/695/world-cuisine/asian/chinese/',\n",
    " 'https://www.allrecipes.com/recipes/699/world-cuisine/asian/japanese/',\n",
    " 'https://www.allrecipes.com/recipes/700/world-cuisine/asian/korean/',\n",
    " 'https://www.allrecipes.com/recipes/233/world-cuisine/asian/indian/',\n",
    " 'https://www.allrecipes.com/recipes/15974/world-cuisine/asian/pakistani/',\n",
    " 'https://www.allrecipes.com/recipes/16100/world-cuisine/asian/bangladeshi/',\n",
    " 'https://www.allrecipes.com/recipes/15937/world-cuisine/middle-eastern/persian/',\n",
    " 'https://www.allrecipes.com/recipes/696/world-cuisine/asian/filipino/',\n",
    " 'https://www.allrecipes.com/recipes/698/world-cuisine/asian/indonesian/',\n",
    " 'https://www.allrecipes.com/recipes/701/world-cuisine/asian/malaysian/',\n",
    " 'https://www.allrecipes.com/recipes/702/world-cuisine/asian/thai/',\n",
    " 'https://www.allrecipes.com/recipes/703/world-cuisine/asian/vietnamese/',\n",
    "               'https://www.allrecipes.com/recipes/1824/world-cuisine/middle-eastern/lebanese/',\n",
    " 'https://www.allrecipes.com/recipes/1825/world-cuisine/middle-eastern/turkish/',\n",
    " 'https://www.allrecipes.com/recipes/1826/world-cuisine/middle-eastern/israeli/',\n",
    "               'https://www.allrecipes.com/recipes/15040/world-cuisine/australian-and-new-zealander',\n",
    " 'https://www.allrecipes.com/recipes/17475/world-cuisine/african/main-dishes/',\n",
    " 'https://www.allrecipes.com/recipes/17476/world-cuisine/african/side-dishes/',\n",
    " 'https://www.allrecipes.com/recipes/17477/world-cuisine/african/soups-and-stews/',\n",
    " 'https://www.allrecipes.com/recipes/17582/world-cuisine/african/north-african/',\n",
    " 'https://www.allrecipes.com/recipes/15035/world-cuisine/african/south-african/',\n",
    " 'https://www.allrecipes.com/recipes/17845/world-cuisine/african/east-african/',\n",
    "               'https://www.allrecipes.com/recipes/1638/world-cuisine/canadian/toronto/',\n",
    " 'https://www.allrecipes.com/recipes/15041/world-cuisine/canadian/occasions/',\n",
    " 'https://www.allrecipes.com/recipes/16075/world-cuisine/canadian/vancouver/',\n",
    " 'https://www.allrecipes.com/recipes/16104/world-cuisine/canadian/quebec/',\n",
    "                'https://www.allrecipes.com/recipes/734/us-recipes/us-recipes-by-state/hawaii/',\n",
    " 'https://www.allrecipes.com/recipes/1601/us-recipes/us-recipes-by-state/texas/',\n",
    " 'https://www.allrecipes.com/recipes/1621/us-recipes/us-recipes-by-state/washington-dc/',\n",
    " 'https://www.allrecipes.com/recipes/1622/us-recipes/us-recipes-by-state/colorado/',\n",
    " 'https://www.allrecipes.com/recipes/1623/us-recipes/us-recipes-by-state/arizona/',\n",
    " 'https://www.allrecipes.com/recipes/1632/us-recipes/us-recipes-by-state/north-carolina/',\n",
    " 'https://www.allrecipes.com/recipes/1753/us-recipes/us-recipes-by-state/illinois/',\n",
    " 'https://www.allrecipes.com/recipes/1754/us-recipes/us-recipes-by-state/california/',\n",
    " 'https://www.allrecipes.com/recipes/1756/us-recipes/us-recipes-by-state/alaska/',\n",
    " 'https://www.allrecipes.com/recipes/1757/us-recipes/us-recipes-by-state/oregon/',\n",
    " 'https://www.allrecipes.com/recipes/1758/us-recipes/us-recipes-by-state/washington/',\n",
    " 'https://www.allrecipes.com/recipes/1759/us-recipes/us-recipes-by-state/wyoming/',\n",
    " 'https://www.allrecipes.com/recipes/1760/us-recipes/us-recipes-by-state/montana/',\n",
    " 'https://www.allrecipes.com/recipes/1761/us-recipes/us-recipes-by-state/utah/',\n",
    " 'https://www.allrecipes.com/recipes/1762/us-recipes/us-recipes-by-state/idaho/',\n",
    " 'https://www.allrecipes.com/recipes/1763/us-recipes/us-recipes-by-state/new-mexico/',\n",
    " 'https://www.allrecipes.com/recipes/1764/us-recipes/us-recipes-by-state/oklahoma/',\n",
    " 'https://www.allrecipes.com/recipes/1765/us-recipes/us-recipes-by-state/georgia/',\n",
    " 'https://www.allrecipes.com/recipes/1766/us-recipes/us-recipes-by-state/florida/',\n",
    " 'https://www.allrecipes.com/recipes/1767/us-recipes/us-recipes-by-state/louisiana/',\n",
    " 'https://www.allrecipes.com/recipes/1768/us-recipes/us-recipes-by-state/maryland/',\n",
    " 'https://www.allrecipes.com/recipes/1769/us-recipes/us-recipes-by-state/new-york/',\n",
    " 'https://www.allrecipes.com/recipes/1770/us-recipes/us-recipes-by-state/pennsylvania/',\n",
    " 'https://www.allrecipes.com/recipes/1771/us-recipes/us-recipes-by-state/massachusetts/',\n",
    " 'https://www.allrecipes.com/recipes/1772/us-recipes/us-recipes-by-state/ohio/',\n",
    " 'https://www.allrecipes.com/recipes/1773/us-recipes/us-recipes-by-state/indiana/',\n",
    " 'https://www.allrecipes.com/recipes/1774/us-recipes/us-recipes-by-state/michigan/',\n",
    " 'https://www.allrecipes.com/recipes/1775/us-recipes/us-recipes-by-state/wisconsin/',\n",
    " 'https://www.allrecipes.com/recipes/1776/us-recipes/us-recipes-by-state/minnesota/',\n",
    " 'https://www.allrecipes.com/recipes/1777/us-recipes/us-recipes-by-state/missouri/',\n",
    " 'https://www.allrecipes.com/recipes/1778/us-recipes/us-recipes-by-state/iowa/',\n",
    " 'https://www.allrecipes.com/recipes/1779/us-recipes/us-recipes-by-state/north-dakota/',\n",
    " 'https://www.allrecipes.com/recipes/1780/us-recipes/us-recipes-by-state/south-dakota/',\n",
    " 'https://www.allrecipes.com/recipes/1781/us-recipes/us-recipes-by-state/kansas/',\n",
    " 'https://www.allrecipes.com/recipes/1782/us-recipes/us-recipes-by-state/nebraska/',\n",
    " 'https://www.allrecipes.com/recipes/1808/us-recipes/us-recipes-by-state/connecticut/',\n",
    " 'https://www.allrecipes.com/recipes/1809/us-recipes/us-recipes-by-state/maine/',\n",
    " 'https://www.allrecipes.com/recipes/1810/us-recipes/us-recipes-by-state/new-hampshire/',\n",
    " 'https://www.allrecipes.com/recipes/1811/us-recipes/us-recipes-by-state/rhode-island/',\n",
    " 'https://www.allrecipes.com/recipes/1812/us-recipes/us-recipes-by-state/vermont/',\n",
    " 'https://www.allrecipes.com/recipes/1813/us-recipes/us-recipes-by-state/delaware/',\n",
    " 'https://www.allrecipes.com/recipes/1814/us-recipes/us-recipes-by-state/new-jersey/',\n",
    " 'https://www.allrecipes.com/recipes/1815/us-recipes/us-recipes-by-state/virginia/',\n",
    " 'https://www.allrecipes.com/recipes/1816/us-recipes/us-recipes-by-state/south-carolina/',\n",
    " 'https://www.allrecipes.com/recipes/1817/us-recipes/us-recipes-by-state/alabama/',\n",
    " 'https://www.allrecipes.com/recipes/1818/us-recipes/us-recipes-by-state/arkansas/',\n",
    " 'https://www.allrecipes.com/recipes/1819/us-recipes/us-recipes-by-state/kentucky/',\n",
    " 'https://www.allrecipes.com/recipes/1820/us-recipes/us-recipes-by-state/tennessee/',\n",
    " 'https://www.allrecipes.com/recipes/2593/us-recipes/us-recipes-by-state/west-virginia/',\n",
    " 'https://www.allrecipes.com/recipes/2824/us-recipes/us-recipes-by-state/mississippi/',\n",
    " 'https://www.allrecipes.com/recipes/2832/us-recipes/us-recipes-by-state/nevada/']"
   ]
  },
  {
   "cell_type": "code",
   "execution_count": 190,
   "metadata": {
    "Collapsed": "false"
   },
   "outputs": [],
   "source": [
    "US = 'United-States'\n",
    "US = ' '.join([US] * 51)\n",
    "US = US.split(' ')\n",
    "US = [x.replace('-', ' ') for x in US]"
   ]
  },
  {
   "cell_type": "code",
   "execution_count": 199,
   "metadata": {
    "Collapsed": "false"
   },
   "outputs": [],
   "source": [
    "countries = ['Mexico','Mexico','Mexico','Mexico','Mexico','Mexico',\n",
    "             'Mexico','Mexico','Mexico','Mexico','Mexico','Mexico',\n",
    "             'Mexico','Mexico','Mexico','Mexico','Mexico','Italy','Italy','Italy',\n",
    "             'Italy','Italy','Italy','Italy','Italy','Italy',\n",
    "             'China', 'Japan', 'Korea', 'India', 'Pakistan', \n",
    "            'Bangladesh', 'Persia', 'Philippines', 'Indonesia', 'Malaysia', 'Thailand', 'Vietnam', 'Lebanon', \n",
    "             'Turkey', 'Israel','Australia', 'Africa','Africa','Africa','North Africa', 'South Africa', 'East Africa',\n",
    "             'Canada','Canada','Canada','Canada']\n",
    "countries = countries + US"
   ]
  },
  {
   "cell_type": "code",
   "execution_count": 200,
   "metadata": {
    "Collapsed": "false"
   },
   "outputs": [
    {
     "data": {
      "text/plain": [
       "103"
      ]
     },
     "execution_count": 200,
     "metadata": {},
     "output_type": "execute_result"
    }
   ],
   "source": [
    "len(country_links)"
   ]
  },
  {
   "cell_type": "code",
   "execution_count": 201,
   "metadata": {
    "Collapsed": "false"
   },
   "outputs": [
    {
     "data": {
      "text/plain": [
       "103"
      ]
     },
     "execution_count": 201,
     "metadata": {},
     "output_type": "execute_result"
    }
   ],
   "source": [
    "len(countries)"
   ]
  },
  {
   "cell_type": "code",
   "execution_count": 209,
   "metadata": {
    "Collapsed": "false"
   },
   "outputs": [],
   "source": [
    "from tqdm.auto import tqdm"
   ]
  },
  {
   "cell_type": "code",
   "execution_count": 273,
   "metadata": {
    "Collapsed": "false"
   },
   "outputs": [],
   "source": [
    "def getRecipelinks(countries,country_links):\n",
    "    '''\n",
    "    This function takes in a list of country page links and returns a list of recipe links and a list of countries.\n",
    "    ------\n",
    "    input: list\n",
    "    output: list, list\n",
    "    \n",
    "    '''\n",
    "    all_recipe_links = []\n",
    "    all_countries = []\n",
    "    for country, country_link in tqdm(zip(countries,country_links)):\n",
    "        all_country_links = []\n",
    "        for i in range(1,5):\n",
    "            country_url = country_link +'?page=' + str(i)\n",
    "            response = requests.get(country_url)\n",
    "            soup = BeautifulSoup(response.text, 'lxml')\n",
    "            country_links_page = [x.find('a')['href'] for x in soup.find_all(class_ = 'fixed-recipe-card__info')]\n",
    "            all_country_links.append(country_links_page)\n",
    "        all_country_links = list(itertools.chain(*all_country_links))\n",
    "        for i in all_country_links:\n",
    "            all_countries.append(country)\n",
    "        all_recipe_links.append(all_country_links)\n",
    "    all_recipe_links = list(itertools.chain(*all_recipe_links))\n",
    "    return all_countries, all_recipe_links"
   ]
  },
  {
   "cell_type": "code",
   "execution_count": 274,
   "metadata": {
    "Collapsed": "false",
    "scrolled": true
   },
   "outputs": [
    {
     "data": {
      "application/vnd.jupyter.widget-view+json": {
       "model_id": "acf2e565872f427d940135c0c79fc867",
       "version_major": 2,
       "version_minor": 0
      },
      "text/plain": [
       "HBox(children=(IntProgress(value=1, bar_style='info', max=1), HTML(value='')))"
      ]
     },
     "metadata": {},
     "output_type": "display_data"
    },
    {
     "name": "stdout",
     "output_type": "stream",
     "text": [
      "\n"
     ]
    }
   ],
   "source": [
    "all_countries, all_recipe_links = getRecipelinks(countries, country_links)"
   ]
  },
  {
   "cell_type": "code",
   "execution_count": 275,
   "metadata": {
    "Collapsed": "false"
   },
   "outputs": [
    {
     "data": {
      "text/plain": [
       "6298"
      ]
     },
     "execution_count": 275,
     "metadata": {},
     "output_type": "execute_result"
    }
   ],
   "source": [
    "len(all_countries)"
   ]
  },
  {
   "cell_type": "code",
   "execution_count": 276,
   "metadata": {
    "Collapsed": "false"
   },
   "outputs": [
    {
     "data": {
      "text/plain": [
       "6298"
      ]
     },
     "execution_count": 276,
     "metadata": {},
     "output_type": "execute_result"
    }
   ],
   "source": [
    "len(all_recipe_links)"
   ]
  },
  {
   "cell_type": "code",
   "execution_count": 278,
   "metadata": {
    "Collapsed": "false"
   },
   "outputs": [],
   "source": [
    "example = all_recipe_links[0]"
   ]
  },
  {
   "cell_type": "code",
   "execution_count": 281,
   "metadata": {
    "Collapsed": "false"
   },
   "outputs": [],
   "source": [
    "response = requests.get(example)\n",
    "soup = BeautifulSoup(response.text, 'lxml')"
   ]
  },
  {
   "cell_type": "code",
   "execution_count": 308,
   "metadata": {
    "Collapsed": "false"
   },
   "outputs": [],
   "source": [
    "example_ingredients = [x.text for x in soup.find_all(class_ = 'recipe-ingred_txt added')]"
   ]
  },
  {
   "cell_type": "code",
   "execution_count": 309,
   "metadata": {
    "Collapsed": "false"
   },
   "outputs": [
    {
     "data": {
      "text/plain": [
       "['2 tablespoons olive oil',\n",
       " '2 pounds beef oxtail, cut into pieces',\n",
       " '1 pound cubed beef stew meat (optional)',\n",
       " '1 cube beef bouillon',\n",
       " '1 onion, chopped',\n",
       " '2 stalks celery, chopped',\n",
       " '1/2 teaspoon chili powder',\n",
       " '3/4 teaspoon ground cumin',\n",
       " 'salt and pepper to taste',\n",
       " '4 ears corn on the cob, broken in half',\n",
       " '3 carrots, coarsely chopped',\n",
       " '2 russet potatoes, cut into bite-sized pieces',\n",
       " '1/3 cup lentils, picked over and rinsed',\n",
       " '1/3 cup long grain rice',\n",
       " '1 cup frozen mixed vegetables (optional)',\n",
       " '1 head cabbage, cored and cut into 8 wedges',\n",
       " '8 corn tortillas (optional)']"
      ]
     },
     "execution_count": 309,
     "metadata": {},
     "output_type": "execute_result"
    }
   ],
   "source": [
    "example_ingredients"
   ]
  },
  {
   "cell_type": "code",
   "execution_count": 318,
   "metadata": {
    "Collapsed": "false"
   },
   "outputs": [],
   "source": [
    "def listRecipePages(all_recipe_links):\n",
    "    '''\n",
    "    This function takes in a list of links to country pages and returns the content\n",
    "    on the page in a list and the countries in a list\n",
    "    ----\n",
    "    input: list\n",
    "    output: list, list\n",
    "    '''\n",
    "    food_pages = []\n",
    "    for link in tqdm(all_recipe_links):\n",
    "        response = requests.get(link)\n",
    "        soup = BeautifulSoup(response.text, 'lxml')\n",
    "        ingredients = [x.text for x in soup.find_all(class_ = 'recipe-ingred_txt added')]\n",
    "        for each in ingredients:\n",
    "            new = ' '.join(map(str, ingredients))\n",
    "        food_pages.append(new)\n",
    "    food_pages = [page.split(' ') for page in food_pages]\n",
    "    return food_pages"
   ]
  },
  {
   "cell_type": "code",
   "execution_count": 319,
   "metadata": {
    "Collapsed": "false",
    "scrolled": true
   },
   "outputs": [
    {
     "data": {
      "application/vnd.jupyter.widget-view+json": {
       "model_id": "9ed27c2cf8ab46f3acbef41e21ee48ed",
       "version_major": 2,
       "version_minor": 0
      },
      "text/plain": [
       "HBox(children=(IntProgress(value=0, max=6298), HTML(value='')))"
      ]
     },
     "metadata": {},
     "output_type": "display_data"
    },
    {
     "name": "stdout",
     "output_type": "stream",
     "text": [
      "\n"
     ]
    }
   ],
   "source": [
    "food_pages = listRecipePages(all_recipe_links)"
   ]
  },
  {
   "cell_type": "markdown",
   "metadata": {
    "Collapsed": "false"
   },
   "source": [
    "**Pull out a list of foods, countries, and groups**"
   ]
  },
  {
   "cell_type": "code",
   "execution_count": 325,
   "metadata": {
    "Collapsed": "false"
   },
   "outputs": [],
   "source": [
    "def countryFoodDF(df_common_food, food_pages, countries):\n",
    "    '''\n",
    "    This function takes in a dataframe of common foods and a list of text scraped from \n",
    "    each country page. It returns a dataframe of all foods, food groups, and associated countries\n",
    "    -----\n",
    "    inputs: DataFrame, list\n",
    "    outputs: DataFrame\n",
    "    '''\n",
    "    list_foods = []\n",
    "    list_countries = []\n",
    "    list_groups = []\n",
    "    i = 0\n",
    "    for page in tqdm(food_pages):\n",
    "        for food,group in zip(df_common_food['FOOD NAME'],df_common_food['GROUP']):\n",
    "            if food in page:\n",
    "                list_foods.append(food)\n",
    "                list_countries.append(countries[i])\n",
    "                list_groups.append(group)\n",
    "        i += 1\n",
    "    df_country_foods = pd.DataFrame({'food':list_foods, 'group':list_groups, 'country': list_countries})\n",
    "    return df_country_foods"
   ]
  },
  {
   "cell_type": "code",
   "execution_count": 326,
   "metadata": {
    "Collapsed": "false"
   },
   "outputs": [
    {
     "data": {
      "application/vnd.jupyter.widget-view+json": {
       "model_id": "e7f2a5f54f1444a9825e1fac0b300b42",
       "version_major": 2,
       "version_minor": 0
      },
      "text/plain": [
       "HBox(children=(IntProgress(value=0, max=6298), HTML(value='')))"
      ]
     },
     "metadata": {},
     "output_type": "display_data"
    },
    {
     "name": "stdout",
     "output_type": "stream",
     "text": [
      "\n"
     ]
    }
   ],
   "source": [
    "df_country_foods_3 = countryFoodDF(df_common_food, food_pages, all_countries)"
   ]
  },
  {
   "cell_type": "code",
   "execution_count": 335,
   "metadata": {
    "Collapsed": "false"
   },
   "outputs": [],
   "source": [
    "def cleanGroups(df_country_foods):\n",
    "    '''\n",
    "    This function takes in a dataframe of coutries, foods, and food groups. It returns a dataframe of \n",
    "    foods grouped into the 5 basic food groups.\n",
    "    -----\n",
    "    input: DataFrame\n",
    "    output: DataFrame\n",
    "    '''\n",
    "    replace_groups = {'Teas': 'extra','Pulses': 'protein', 'Coffee and coffee products': 'extra', \n",
    "                 'Gourds': 'fruits', 'Vegetables': 'vegetables', 'Fruits':'fruits', \n",
    "                 'Cereals and cereal products':'grains', 'Milk and milk products':'dairy', 'Baking goods':'extra',\n",
    "                 'Beverages':'extra', 'Beverages':'extra', 'Aquatic foods':'protein', 'Eggs':'protein', \n",
    "                 'Confectioneries':'extra', 'Cocoa and cocoa products':'extra', 'Animal foods':'protein',\n",
    "                 'Nuts':'protein', 'Snack foods':'extra', 'Soy':'protein'}\n",
    "    df_country_foods = df_country_foods[df_country_foods.food != 'water']\n",
    "    df_country_foods = df_country_foods[df_country_foods.group != 'Herbs and spices']\n",
    "    df_country_foods = df_country_foods[df_country_foods.group != 'Herbs and Spices']\n",
    "    df_country_foods = df_country_foods[df_country_foods.group != 'Dishes']\n",
    "    df_country_foods = df_country_foods[df_country_foods.group != 'Fats and oils']\n",
    "    df_country_foods = df_country_foods.replace({'group':replace_groups})\n",
    "    df_country_foods = df_country_foods.reset_index(drop = True)\n",
    "    return df_country_foods"
   ]
  },
  {
   "cell_type": "code",
   "execution_count": 336,
   "metadata": {
    "Collapsed": "false"
   },
   "outputs": [],
   "source": [
    "df_country_foods_3 = cleanGroups(df_country_foods_3)"
   ]
  },
  {
   "cell_type": "code",
   "execution_count": 328,
   "metadata": {
    "Collapsed": "false",
    "scrolled": true
   },
   "outputs": [],
   "source": [
    "with open('data/df_country_foods_3.pickle', 'wb') as to_write:\n",
    "    pickle.dump(df_country_foods_3, to_write)"
   ]
  }
 ],
 "metadata": {
  "kernelspec": {
   "display_name": "Python 3",
   "language": "python",
   "name": "python3"
  },
  "language_info": {
   "codemirror_mode": {
    "name": "ipython",
    "version": 3
   },
   "file_extension": ".py",
   "mimetype": "text/x-python",
   "name": "python",
   "nbconvert_exporter": "python",
   "pygments_lexer": "ipython3",
   "version": "3.7.4"
  }
 },
 "nbformat": 4,
 "nbformat_minor": 4
}
