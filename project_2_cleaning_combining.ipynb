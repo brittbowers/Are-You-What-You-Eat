{
 "cells": [
  {
   "cell_type": "markdown",
   "metadata": {
    "Collapsed": "false"
   },
   "source": [
    "# Cleaning Combining Notebook\n",
    "\n",
    "This notebook takes the pickled outputs from the 3 webscraping cleaning notebooks and combines them into two final dataframes for mean height of men and women by country along with normalized counts of main foods present in recipes. "
   ]
  },
  {
   "cell_type": "markdown",
   "metadata": {
    "Collapsed": "false"
   },
   "source": [
    "### Imports"
   ]
  },
  {
   "cell_type": "code",
   "execution_count": 74,
   "metadata": {
    "Collapsed": "false"
   },
   "outputs": [],
   "source": [
    "import pandas as pd\n",
    "import numpy as np\n",
    "import re\n",
    "import pickle"
   ]
  },
  {
   "cell_type": "markdown",
   "metadata": {
    "Collapsed": "false"
   },
   "source": [
    "### Combining Dataframes"
   ]
  },
  {
   "cell_type": "code",
   "execution_count": 75,
   "metadata": {
    "Collapsed": "false"
   },
   "outputs": [],
   "source": [
    "def combineDF(num_df):\n",
    "    '''\n",
    "    This function takes in the number of clean df_country_foods dataframes. \n",
    "    It opens the pickle files then appends these dataframes to a list. It then concatenates all dfs into one.\n",
    "    \n",
    "    -----\n",
    "    input: int\n",
    "    output: DataFrame\n",
    "    '''\n",
    "    i = 1\n",
    "    list_dfs = []\n",
    "    while i <= num_df:\n",
    "        with open(('data/df_country_foods_')+str(i)+'.pickle', 'rb') as read_file:\n",
    "            df_country_foods = pickle.load(read_file)\n",
    "        list_dfs.append(df_country_foods)\n",
    "        i += 1\n",
    "    combine_df = pd.concat(list_dfs)\n",
    "    return combine_df"
   ]
  },
  {
   "cell_type": "code",
   "execution_count": 76,
   "metadata": {
    "Collapsed": "false",
    "scrolled": true
   },
   "outputs": [],
   "source": [
    "combine_df = combineDF(3)"
   ]
  },
  {
   "cell_type": "code",
   "execution_count": 153,
   "metadata": {
    "Collapsed": "false"
   },
   "outputs": [],
   "source": [
    "def groupDF(combine_df):\n",
    "    '''\n",
    "    This function takes in a clean combined dataframe of foods, food groups, and country names. It returns a \n",
    "    transposed dataframe countaining counts of each food mentioned by country\n",
    "    -----\n",
    "    input: DataFrame\n",
    "    output: DataFrame\n",
    "    '''\n",
    "    # Grouping into 5 basic food groups\n",
    "    replace_groups = {'Teas': 'extra','Pulses': 'protein', 'Coffee and coffee products': 'extra', \n",
    "                 'Gourds': 'fruits', 'Vegetables': 'vegetables', 'Fruits':'fruits', \n",
    "                 'Cereals and cereal products':'grains', 'Milk and milk products':'dairy', 'Baking goods':'extra',\n",
    "                 'Beverages':'extra', 'Beverages':'extra', 'Aquatic foods':'protein', 'Eggs':'protein', \n",
    "                 'Confectioneries':'extra', 'Cocoa and cocoa products':'extra', 'Animal foods':'protein',\n",
    "                 'Nuts':'protein', 'Snack foods':'extra', 'Soy':'protein'}\n",
    "    combine_df = combine_df[combine_df.group != 'Herbs and Spices']\n",
    "    combine_df = combine_df[combine_df.group != 'Herbs and spices']\n",
    "    combine_df = combine_df[combine_df.group != 'Dishes']\n",
    "    combine_df = combine_df[combine_df.group != 'Fats and oils']\n",
    "    combine_df = combine_df.replace({'group':replace_groups})\n",
    "    combine_df.country = [x.strip() for x in combine_df.country]\n",
    "    replace_country = {'East Africa':'Ethiopia', 'Africa':'Morocco', 'North Africa':'Morocco', 'Korea':'South Korea',\n",
    "                      'Islands of the Pacific':'Fiji', 'Virgin Islands':'Puerto Rico', 'Sicily':'Italy',\n",
    "                      }\n",
    "    combine_df = combine_df.replace({'country':replace_country})\n",
    "    combine_df = combine_df.reset_index(drop = True)\n",
    "    \n",
    "    # Cleaning countries to reflect same country\n",
    "    combine_df['country'] = [country.replace('-', ' ') for country in combine_df['country']]\n",
    "    for i,country in enumerate(combine_df['country']):\n",
    "        if re.search(r'^United States', country):\n",
    "            combine_df.loc[i, 'country'] = 'United States'\n",
    "    for i,country in enumerate(combine_df['country']):\n",
    "        if re.search(r'^Brazil', country):\n",
    "            combine_df.loc[i, 'country'] = 'Brazil'\n",
    "    for i,country in enumerate(combine_df['country']):\n",
    "        if re.search(r'^Australia', country):\n",
    "            combine_df.loc[i, 'country'] = 'Australia'\n",
    "    for i,country in enumerate(combine_df['country']):\n",
    "        if re.search(r'^Canada', country):\n",
    "            combine_df.loc[i, 'country'] = 'Canada'\n",
    "    df_country_groups = combine_df.groupby(['country','group'], as_index = False)['food'].count()\n",
    "    return df_country_groups"
   ]
  },
  {
   "cell_type": "code",
   "execution_count": 154,
   "metadata": {
    "Collapsed": "false"
   },
   "outputs": [],
   "source": [
    "df_country_groups = groupDF(combine_df)"
   ]
  },
  {
   "cell_type": "code",
   "execution_count": 166,
   "metadata": {
    "Collapsed": "false"
   },
   "outputs": [],
   "source": [
    "def finalDF(df_country_groups):\n",
    "    '''\n",
    "    This function takes in a newly grouped, clean df of country, group, and food count. It transposes the\n",
    "    group column and adds mean height by country.\n",
    "    -----\n",
    "    input: DataFrame\n",
    "    output: DataFrame, DataFrame\n",
    "    '''\n",
    "    # Read in height df\n",
    "    df_height = pd.read_csv('data/height_country.txt')\n",
    "    \n",
    "    # Clean country names in height df to match food group df \n",
    "    df_height['Country'] = [country.replace('-', ' ') for country in df_height['Country']]\n",
    "    for i,country in enumerate(df_height['Country']):\n",
    "        if re.search(r'^United States', country):\n",
    "            df_height.loc[i, 'Country'] = 'United States'\n",
    "    df_height_recent = df_height[df_height['Year of birth'] == 1996] #Use most recent year\n",
    "    df_height_recent = df_height_recent.reset_index(drop = True)\n",
    "    df_height_recent = df_height_recent.rename(columns = {'Year of birth':'year', 'Mean height (cm)':'mean', \n",
    "                         'Mean height lower 95% uncertainty interval (cm)':'lower95',\n",
    "                        'Mean height upper 95% uncertainty interval (cm)' : 'upper95',\n",
    "                                                     'Country':'country'}) #Rename cols \n",
    "    df_country_groups['country'] = [x.lower() for x in df_country_groups['country']]\n",
    "    df_height_recent['country'] = [x.lower() for x in df_height_recent['country']]\n",
    "    for i,country in enumerate(df_height_recent['country']):\n",
    "        if re.search(r'^vie', country):\n",
    "            df_height_recent.loc[i, 'country'] = 'vietnam'\n",
    "    \n",
    "    # Combine height df and food df\n",
    "    final_df = df_country_groups.set_index('country').join(df_height_recent.set_index('country'), how = 'left')\n",
    "    combined_men_group = final_df[final_df['Sex'] == 'Men'] #Split men and women\n",
    "    combined_women_group = final_df[final_df['Sex'] == 'Women']\n",
    "    cols = ['ISO', 'Sex', 'year'] #Drop unnecessary cols\n",
    "    combined_men_group = combined_men_group.drop(cols, axis = 1)\n",
    "    combined_women_group = combined_women_group.drop(cols, axis = 1)\n",
    "    \n",
    "    # Transpose df to have food groups as columns\n",
    "    food_men = combined_men_group[['food', 'group']]\n",
    "    food_women = combined_women_group[['food', 'group']]\n",
    "    food_men = food_men.pivot(columns = 'group', values = 'food')\n",
    "    food_women = food_women.pivot(columns = 'group', values = 'food')\n",
    "    food_men = food_men.replace(np.nan,0)\n",
    "    food_women = food_women.replace(np.nan,0)\n",
    "    y_men = combined_men_group.groupby('country')['mean'].mean()\n",
    "    y_women = combined_women_group.groupby('country')['mean'].mean()\n",
    "    combined_men_group = food_men.join(y_men, how = 'left')\n",
    "    combined_women_group = food_women.join(y_women, how = 'left')\n",
    "    return combined_men_group, combined_women_group"
   ]
  },
  {
   "cell_type": "code",
   "execution_count": 167,
   "metadata": {
    "Collapsed": "false"
   },
   "outputs": [
    {
     "data": {
      "text/plain": [
       "array(['algeria', 'argentina', 'armenia', 'australia', 'austria',\n",
       "       'bangladesh', 'belgium', 'brazil', 'c te d ivoire', 'cameroon',\n",
       "       'canada', 'chile', 'china', 'costa rica', 'cuba', 'czech republic',\n",
       "       'denmark', 'egypt', 'england', 'ethiopia', 'finland', 'france',\n",
       "       'germany', 'ghana', 'greece', 'guatemala', 'haiti', 'hungary',\n",
       "       'india', 'indonesia', 'iran', 'iraq', 'ireland',\n",
       "       'islands of the pacific', 'israel', 'italy', 'jamaica', 'japan',\n",
       "       'kazakhstan', 'kenya', 'lebanon', 'liberia', 'malaysia', 'mexico',\n",
       "       'morocco', 'mozambique', 'netherlands', 'nigeria', 'norway',\n",
       "       'pakistan', 'persia', 'peru', 'philippines', 'poland', 'portugal',\n",
       "       'puerto rico', 'russia', 'saudi arabia', 'scotland', 'slovenia',\n",
       "       'south africa', 'south korea', 'spain', 'sweden', 'tanzania',\n",
       "       'thailand', 'turkey', 'ukraine', 'united kingdom', 'united states',\n",
       "       'vietnam', 'zimbabwe'], dtype=object)"
      ]
     },
     "execution_count": 167,
     "metadata": {},
     "output_type": "execute_result"
    }
   ],
   "source": [
    "df_country_groups.country.unique()"
   ]
  },
  {
   "cell_type": "code",
   "execution_count": 168,
   "metadata": {
    "Collapsed": "false"
   },
   "outputs": [],
   "source": [
    "final_df_men, final_df_women = finalDF(df_country_groups)"
   ]
  },
  {
   "cell_type": "code",
   "execution_count": 165,
   "metadata": {
    "Collapsed": "false"
   },
   "outputs": [],
   "source": [
    "with open('data/final_df_men.pickle', 'wb') as to_write:\n",
    "    pickle.dump(final_df_men, to_write)\n",
    "with open('data/final_df_women.pickle', 'wb') as to_write:\n",
    "    pickle.dump(final_df_women, to_write)"
   ]
  }
 ],
 "metadata": {
  "kernelspec": {
   "display_name": "Python 3",
   "language": "python",
   "name": "python3"
  },
  "language_info": {
   "codemirror_mode": {
    "name": "ipython",
    "version": 3
   },
   "file_extension": ".py",
   "mimetype": "text/x-python",
   "name": "python",
   "nbconvert_exporter": "python",
   "pygments_lexer": "ipython3",
   "version": "3.7.4"
  }
 },
 "nbformat": 4,
 "nbformat_minor": 4
}
