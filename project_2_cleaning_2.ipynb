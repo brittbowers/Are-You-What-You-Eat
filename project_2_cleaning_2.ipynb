{
 "cells": [
  {
   "cell_type": "markdown",
   "metadata": {},
   "source": [
    "## Getting more Data"
   ]
  },
  {
   "cell_type": "code",
   "execution_count": 2,
   "metadata": {},
   "outputs": [],
   "source": [
    "import pandas as pd\n",
    "import numpy as np\n",
    "import requests\n",
    "from bs4 import BeautifulSoup\n",
    "import time\n",
    "import re\n",
    "import matplotlib.pyplot as plt\n",
    "import pickle"
   ]
  },
  {
   "cell_type": "code",
   "execution_count": 5,
   "metadata": {},
   "outputs": [],
   "source": [
    "with open('data/df_common_food.pickle', 'rb') as read_file:\n",
    "    df_common_food = pickle.load(read_file)"
   ]
  },
  {
   "cell_type": "markdown",
   "metadata": {},
   "source": [
    "## Web scraping taste of home (n=80 recipes)"
   ]
  },
  {
   "cell_type": "code",
   "execution_count": 6,
   "metadata": {},
   "outputs": [
    {
     "data": {
      "text/plain": [
       "200"
      ]
     },
     "execution_count": 6,
     "metadata": {},
     "output_type": "execute_result"
    }
   ],
   "source": [
    "# Checking robots\n",
    "url = 'https://www.tasteofhome.com/collection/travel-around-the-world-in-80-meals/.robots.txt\n",
    "response = requests.get(url)\n",
    "# Checking status code\n",
    "response.status_code"
   ]
  },
  {
   "cell_type": "code",
   "execution_count": 8,
   "metadata": {},
   "outputs": [
    {
     "name": "stdout",
     "output_type": "stream",
     "text": [
      "User-agent: *\r\n",
      "Disallow: /wp-admin/ \r\n",
      "Allow: /wp-admin/admin-ajax.php\r\n",
      "Disallow: /login/index*\r\n",
      "Disallow: */print/\r\n",
      "\r\n",
      "Sitemap: https://www.tasteofhome.com/sitemap_index.xml\n"
     ]
    }
   ],
   "source": [
    "print(response.text)"
   ]
  },
  {
   "cell_type": "markdown",
   "metadata": {},
   "source": [
    "**Get the name of the countries and links to the recipes**"
   ]
  },
  {
   "cell_type": "code",
   "execution_count": 208,
   "metadata": {},
   "outputs": [],
   "source": [
    "def getCountryNameLink(url):\n",
    "    '''\n",
    "    This function takes in the foodbycountry url and outputs a list of countries and a list of links\n",
    "    to specific recipe pages\n",
    "    -----\n",
    "    input: string\n",
    "    output: list, list\n",
    "    '''\n",
    "    response = requests.get(url)\n",
    "    soup_food = BeautifulSoup(response.text, 'lxml')\n",
    "    countries = [x.find('b') for x in soup_food.find_all(class_= 'listicle-page__content')]\n",
    "    countries[11] = 'United States'\n",
    "    countries[0:11] = [x.text for x in countries[0:11]]\n",
    "    countries[12:] = [x.text for x in countries[12:]]\n",
    "    countries = [x.replace(':','') for x in countries]\n",
    "    # Getting names of countries in a table based on class tag\n",
    "    recipe_links = [x for x in soup_food.find_all(class_ = 'listicle-page__cta-button')]\n",
    "    recipe_links = [x.find('a')['href'] for x in recipe_links]\n",
    "    return countries, recipe_links"
   ]
  },
  {
   "cell_type": "code",
   "execution_count": 209,
   "metadata": {},
   "outputs": [],
   "source": [
    "url = 'https://www.tasteofhome.com/collection/travel-around-the-world-in-80-meals/'"
   ]
  },
  {
   "cell_type": "code",
   "execution_count": 210,
   "metadata": {},
   "outputs": [],
   "source": [
    "countries, recipe_links = getCountryNameLink(url)"
   ]
  },
  {
   "cell_type": "markdown",
   "metadata": {},
   "source": [
    "**Scrape each recipe link**"
   ]
  },
  {
   "cell_type": "code",
   "execution_count": 211,
   "metadata": {},
   "outputs": [],
   "source": [
    "def listCountriesPages(recipe_links):\n",
    "    '''\n",
    "    This function takes in a list of links to country pages and returns the content\n",
    "    on the page in a list and the countries in a list\n",
    "    ----\n",
    "    input: list\n",
    "    output: list, list\n",
    "    '''\n",
    "    food_pages = []\n",
    "    for link in recipe_links:\n",
    "        response = requests.get(link)\n",
    "        soup = BeautifulSoup(response.text, 'lxml')\n",
    "        ingredients = [x for x in soup.find_all(class_= 'recipe-ingredients__list recipe-ingredients__collection')]\n",
    "        ingredients = [x.text for x in ingredients[0].find_all('li')]\n",
    "        for each in ingredients:\n",
    "            new = ' '.join(map(str, ingredients))\n",
    "        food_pages.append(new)\n",
    "    food_pages = [page.split(' ') for page in food_pages]\n",
    "    return food_pages"
   ]
  },
  {
   "cell_type": "code",
   "execution_count": 212,
   "metadata": {},
   "outputs": [],
   "source": [
    "food_pages = listCountriesPages(recipe_links)"
   ]
  },
  {
   "cell_type": "markdown",
   "metadata": {},
   "source": [
    "**Pull out a list of foods, countries, and groups**"
   ]
  },
  {
   "cell_type": "code",
   "execution_count": 215,
   "metadata": {},
   "outputs": [],
   "source": [
    "def countryFoodDF(df_common_food, food_pages, countries):\n",
    "    '''\n",
    "    This function takes in a dataframe of common foods and a list of text scraped from \n",
    "    each country page. It returns a dataframe of all foods, food groups, and associated countries\n",
    "    -----\n",
    "    inputs: DataFrame, list\n",
    "    outputs: DataFrame\n",
    "    '''\n",
    "    list_foods = []\n",
    "    list_countries = []\n",
    "    list_groups = []\n",
    "    i = 0\n",
    "    for page in food_pages:\n",
    "        for food,group in zip(df_common_food['FOOD NAME'],df_common_food['GROUP']):\n",
    "            if food in page:\n",
    "                list_foods.append(food)\n",
    "                list_countries.append(countries[i])\n",
    "                list_groups.append(group)\n",
    "        i += 1\n",
    "    df_country_foods = pd.DataFrame({'food':list_foods, 'group':list_groups, 'country': list_countries})\n",
    "    return df_country_foods"
   ]
  },
  {
   "cell_type": "code",
   "execution_count": 219,
   "metadata": {},
   "outputs": [],
   "source": [
    "df_country_foods_2 = countryFoodDF(df_common_food, food_pages, countries)"
   ]
  },
  {
   "cell_type": "code",
   "execution_count": 225,
   "metadata": {
    "scrolled": true
   },
   "outputs": [],
   "source": [
    "with open('data/df_country_foods_2.pickle', 'wb') as to_write:\n",
    "    pickle.dump(df_country_foods_2, to_write)"
   ]
  },
  {
   "cell_type": "code",
   "execution_count": 226,
   "metadata": {},
   "outputs": [],
   "source": [
    "def cleanGroups(df_country_foods):\n",
    "    '''\n",
    "    This function takes in a dataframe of coutries, foods, and food groups. It returns a dataframe of \n",
    "    foods grouped into the 5 basic food groups.\n",
    "    -----\n",
    "    input: DataFrame\n",
    "    output: DataFrame\n",
    "    '''\n",
    "    replace_groups = {'Teas': 'extra','Pulses': 'protein', 'Coffee and coffee products': 'extra', \n",
    "                 'Gourds': 'fruits', 'Vegetables': 'vegetables', 'Fruits':'fruits', \n",
    "                 'Cereals and cereal products':'grains', 'Milk and milk products':'dairy', 'Baking goods':'extra',\n",
    "                 'Beverages':'extra', 'Beverages':'extra', 'Aquatic foods':'protein', 'Eggs':'protein', \n",
    "                 'Confectioneries':'extra', 'Cocoa and cocoa products':'extra', 'Animal foods':'protein',\n",
    "                 'Nuts':'protein', 'Snack foods':'extra', 'Soy':'protein'}\n",
    "    df_country_foods = df_country_foods[df_country_foods.group != 'Herbs and spices']\n",
    "    df_country_foods = df_country_foods[df_country_foods.group != 'Dishes']\n",
    "    df_country_foods = df_country_foods[df_country_foods.group != 'Fats and oils']\n",
    "    df_country_foods = df_country_foods.replace({'group':replace_groups})\n",
    "    df_country_foods = df_country_foods.reset_index(drop = True)\n",
    "    return df_country_foods"
   ]
  },
  {
   "cell_type": "code",
   "execution_count": 227,
   "metadata": {},
   "outputs": [],
   "source": [
    "df_country_foods_2 = cleanGroups(df_country_foods_2)"
   ]
  }
 ],
 "metadata": {
  "kernelspec": {
   "display_name": "Python 3",
   "language": "python",
   "name": "python3"
  },
  "language_info": {
   "codemirror_mode": {
    "name": "ipython",
    "version": 3
   },
   "file_extension": ".py",
   "mimetype": "text/x-python",
   "name": "python",
   "nbconvert_exporter": "python",
   "pygments_lexer": "ipython3",
   "version": "3.7.1"
  }
 },
 "nbformat": 4,
 "nbformat_minor": 2
}
